{
 "cells": [
  {
   "cell_type": "code",
   "id": "initial_id",
   "metadata": {
    "collapsed": true,
    "ExecuteTime": {
     "end_time": "2024-05-04T07:26:19.404710Z",
     "start_time": "2024-05-04T07:26:19.397728Z"
    }
   },
   "source": [
    "import matplotlib\n",
    "import seaborn as sns\n",
    "from functools import partial\n",
    "\n",
    "import pandas as pd\n",
    "import matplotlib.pyplot as plt\n",
    "import shutil\n",
    "import csv\n",
    "import os\n",
    "\n",
    "\n",
    "matplotlib.rcParams['font.sans-serif'] = ['SimHei']\n",
    "matplotlib.rcParams['axes.unicode_minus'] = False\n",
    "\n",
    "dataset_dir = r'D:\\Data\\workspace\\python\\projects\\CNDataAuditOutput\\sichuan\\datasets'\n",
    "empties_dir = r'D:\\Data\\workspace\\python\\projects\\CNDataAuditOutput\\sichuan\\empty_datasets'\n",
    "anomalies_dir = r'D:\\Data\\workspace\\python\\projects\\CNDataAuditOutput\\sichuan\\anomalous_datasets'\n",
    "catalog_path = r'D:\\Data\\workspace\\python\\projects\\CNDataAuditOutput\\sichuan\\dataset_catalog.json'\n",
    "\n",
    "dtype = {'name': str, 'id': str, 'URL': str, 'owner': str, 'category': 'category',\n",
    "         'published': 'datetime64[ns]', 'updated': 'datetime64[ns]',\n",
    "         'frequency': 'category', 'sample_data': object}\n",
    "\n",
    "def dataset_files():\n",
    "    return (f for f in os.listdir(dataset_dir) if f.endswith('.csv'))"
   ],
   "outputs": [],
   "execution_count": 67
  },
  {
   "metadata": {
    "ExecuteTime": {
     "end_time": "2024-05-04T07:26:20.636143Z",
     "start_time": "2024-05-04T07:26:20.530426Z"
    }
   },
   "cell_type": "code",
   "source": [
    "df = pd.read_json(catalog_path, dtype=dtype)\n",
    "print(df.info())"
   ],
   "id": "8a0cce08c70abe1e",
   "outputs": [
    {
     "name": "stdout",
     "output_type": "stream",
     "text": [
      "<class 'pandas.core.frame.DataFrame'>\n",
      "RangeIndex: 3777 entries, 0 to 3776\n",
      "Data columns (total 9 columns):\n",
      " #   Column       Non-Null Count  Dtype         \n",
      "---  ------       --------------  -----         \n",
      " 0   name         3777 non-null   object        \n",
      " 1   id           3777 non-null   object        \n",
      " 2   URL          3777 non-null   object        \n",
      " 3   owner        3777 non-null   object        \n",
      " 4   category     3777 non-null   category      \n",
      " 5   published    3777 non-null   datetime64[ns]\n",
      " 6   updated      3777 non-null   datetime64[ns]\n",
      " 7   frequency    3777 non-null   category      \n",
      " 8   sample_data  3776 non-null   object        \n",
      "dtypes: category(2), datetime64[ns](2), object(5)\n",
      "memory usage: 215.1+ KB\n",
      "None\n"
     ]
    }
   ],
   "execution_count": 68
  },
  {
   "metadata": {},
   "cell_type": "code",
   "source": "df['category'].value_counts() ",
   "id": "54faac81693f0221",
   "outputs": [],
   "execution_count": null
  },
  {
   "metadata": {},
   "cell_type": "code",
   "source": "df['frequency'].value_counts()",
   "id": "ea86150739b8bb1a",
   "outputs": [],
   "execution_count": null
  },
  {
   "metadata": {},
   "cell_type": "code",
   "source": [
    "# Take a look at Datasets in files but not in catalog\n",
    "# also Datasets in catalog but not found in files\n",
    "# Directory containing datasets\n",
    "files = [f for f in os.listdir(dataset_dir) if f.endswith('.csv')]\n",
    "dataset_names_from_files = [os.path.splitext(f)[0] for f in files]\n",
    "dataset_names_from_catalog = df['name'].tolist()\n",
    "\n",
    "datasets_not_in_catalog = set(dataset_names_from_files) - set(dataset_names_from_catalog)\n",
    "datasets_in_catalog_not_found = set(dataset_names_from_catalog) - set(dataset_names_from_files)\n",
    "\n",
    "print(len(set(dataset_names_from_files)), len(set(dataset_names_from_catalog)))\n",
    "print(len(datasets_not_in_catalog), len(datasets_in_catalog_not_found))"
   ],
   "id": "9b0fd17910779755",
   "outputs": [],
   "execution_count": null
  },
  {
   "metadata": {},
   "cell_type": "code",
   "source": [
    "# Find duplicates in the 'name' column\n",
    "duplicates = df[df.duplicated('name', keep=False)]  # keep=False marks all duplicates as True\n",
    "\n",
    "# Display duplicates\n",
    "print(\"Duplicate records based on 'name':\")\n",
    "print(duplicates['name'].sort_values())\n",
    "print(len(duplicates))"
   ],
   "id": "f12ce9ec3647606",
   "outputs": [],
   "execution_count": null
  },
  {
   "metadata": {},
   "cell_type": "code",
   "source": [
    "def remove_files(names):\n",
    "  count = 0\n",
    "  for dataset_name in names:\n",
    "      file_path = os.path.join(dataset_dir, f\"{dataset_name}.csv\")\n",
    "      if os.path.exists(file_path):\n",
    "          os.remove(file_path)\n",
    "          count += 1\n",
    "      else:\n",
    "          print(f\"File not found: {file_path}\")\n",
    "  print(count)\n",
    "\n",
    "# remove_files(datasets_not_in_catalog)\n",
    "# remove_files(set(duplicates['name'].tolist()))"
   ],
   "id": "dbc5f03a4dc04738",
   "outputs": [],
   "execution_count": null
  },
  {
   "metadata": {},
   "cell_type": "code",
   "source": [
    "def remove_records(names):\n",
    "  filtered_df = df[~df['name'].isin(names)]\n",
    "  str_filtered_df = filtered_df.astype(str)\n",
    "  # last column as type dict\n",
    "  str_filtered_df['sample_data'] = filtered_df['sample_data']\n",
    "  print(len(str_filtered_df))\n",
    "  return str_filtered_df\n",
    "\n",
    "# filtered = remove_records(datasets_in_catalog_not_found)\n",
    "filtered = remove_records(set(duplicates['name'].tolist()))\n",
    "filtered.to_json('updated_catalog.json', orient='records', force_ascii=False)"
   ],
   "id": "ef5991dd9b00ea30",
   "outputs": [],
   "execution_count": null
  },
  {
   "metadata": {},
   "cell_type": "code",
   "source": [
    "# Move empty datasets (sample_data = {'null': 'null'}) \n",
    "# into a separate directory\n",
    "\n",
    "def move_empty_datasets():\n",
    "    os.makedirs(empties_dir, exist_ok=True)\n",
    "    is_empty_sample = df['sample_data'].apply(lambda x: x == {'null': 'null'})\n",
    "    \n",
    "    for index, row in df[is_empty_sample].iterrows():\n",
    "        file_name = f\"{row['name']}.csv\"\n",
    "        source_path = os.path.join(dataset_dir, file_name)\n",
    "        destination_path = os.path.join(empties_dir, file_name)\n",
    "        shutil.move(source_path, destination_path)\n",
    "        print(f\"Moved '{file_name}' to {empties_dir}\")"
   ],
   "id": "8e6a7dc036a79e40",
   "outputs": [],
   "execution_count": null
  },
  {
   "metadata": {
    "ExecuteTime": {
     "end_time": "2024-05-03T00:29:47.506623Z",
     "start_time": "2024-05-03T00:29:47.500639Z"
    }
   },
   "cell_type": "code",
   "source": "print(\"Unique frequencies in the dataset:\", df['frequency'].unique())",
   "id": "501235b195b5463a",
   "outputs": [
    {
     "name": "stdout",
     "output_type": "stream",
     "text": [
      "Unique frequencies in the dataset: ['每年', '不定期', '实时', '每季度', '每月', '每天', '每半年', '每周']\n",
      "Categories (8, object): ['不定期', '实时', '每半年', '每周', '每天', '每季度', '每年', '每月']\n"
     ]
    }
   ],
   "execution_count": 3
  },
  {
   "metadata": {
    "ExecuteTime": {
     "end_time": "2024-05-04T07:29:01.679387Z",
     "start_time": "2024-05-04T07:29:01.597604Z"
    }
   },
   "cell_type": "code",
   "source": [
    "from datetime import timedelta\n",
    "\n",
    "\n",
    "def evaluate_timeliness(df):\n",
    "    def is_timely(dataset, now=None):\n",
    "        if now is None:\n",
    "            now = pd.Timestamp.now()\n",
    "\n",
    "        max_days = frequency_days.get(dataset['frequency'], None)\n",
    "        if max_days is None:\n",
    "            return None\n",
    "        return now - dataset['updated'] <= timedelta(days=max_days)\n",
    "\n",
    "    frequency_days = {\n",
    "        '实时': 0,\n",
    "        '每天': 1,\n",
    "        '每周': 7,\n",
    "        '每月': 30,\n",
    "        '每季度': 90,\n",
    "        '每半年': 183,\n",
    "        '每年': 365,\n",
    "    }\n",
    "    downloaded = pd.Timestamp('2024-04-30 20:00:00')\n",
    "    is_timely = partial(is_timely, now=downloaded)\n",
    "    df['is_timely'] = df.apply(is_timely, axis=1)\n",
    "\n",
    "\n",
    "def print_timeliness_freq_distribution():\n",
    "    print(\"Frequency distribution for timely updates:\")\n",
    "    print(timely_freq_counts)\n",
    "    print(\"Frequency distribution for untimely updates:\")\n",
    "    print(untimely_freq_counts)\n",
    "\n",
    "\n",
    "def visualize_timeliness_distribution(save_path=None):\n",
    "    def autopct_format(values):\n",
    "        def my_format(pct):\n",
    "            total = sum(values)\n",
    "            val = int(round(pct*total/100.0))\n",
    "            return '{v:d} ({p:.2f}%)'.format(v=val, p=pct) if pct > 0 else ''\n",
    "        return my_format\n",
    "\n",
    "    _timely_freq_counts = timely_freq_counts[timely_freq_counts > 0]\n",
    "    _untimely_freq_counts = untimely_freq_counts[untimely_freq_counts > 0]\n",
    "\n",
    "    fig, axes = plt.subplots(nrows=1, ncols=2, figsize=(16, 9))\n",
    "    axes[0].pie(_timely_freq_counts, labels=_timely_freq_counts.index,\n",
    "                autopct=autopct_format(_timely_freq_counts), startangle=140)\n",
    "    axes[1].pie(_untimely_freq_counts, labels=_untimely_freq_counts.index,\n",
    "                autopct=autopct_format(_timely_freq_counts), startangle=140)\n",
    "    axes[0].set_title('及时更新的数据集更新频率分布')\n",
    "    axes[1].set_title('未及时更新的数据集更新频率分布')\n",
    "    fig.text(0.5, 0.01, '评估时间：2024-04-30 20:00:00', ha='center', va='bottom', fontsize=10)\n",
    "    fig.tight_layout()\n",
    "    if save_path is not None:\n",
    "        plt.savefig(save_path)\n",
    "    plt.show()\n",
    "\n",
    "evaluate_timeliness(df)\n",
    "\n",
    "timely_df = df[df['is_timely'] == True]\n",
    "untimely_df = df[df['is_timely'] == False]\n",
    "timely_freq_counts = timely_df['frequency'].value_counts() \n",
    "untimely_freq_counts = untimely_df['frequency'].value_counts()\n",
    "\n",
    "print_timeliness_freq_distribution()\n",
    "# visualize_timeliness_distribution(save_path='timeliness_distribution.png')"
   ],
   "id": "e1825e92ae91613e",
   "outputs": [
    {
     "name": "stdout",
     "output_type": "stream",
     "text": [
      "Frequency distribution for timely updates:\n",
      "frequency\n",
      "每年     980\n",
      "每半年     15\n",
      "每月       1\n",
      "不定期      0\n",
      "实时       0\n",
      "每周       0\n",
      "每天       0\n",
      "每季度      0\n",
      "Name: count, dtype: int64\n",
      "Frequency distribution for untimely updates:\n",
      "frequency\n",
      "每天     330\n",
      "实时     246\n",
      "每月     212\n",
      "每半年    102\n",
      "每季度     54\n",
      "每周      18\n",
      "每年       1\n",
      "不定期      0\n",
      "Name: count, dtype: int64\n"
     ]
    }
   ],
   "execution_count": 71
  },
  {
   "metadata": {
    "ExecuteTime": {
     "end_time": "2024-05-03T02:01:05.695630Z",
     "start_time": "2024-05-03T02:01:05.688648Z"
    }
   },
   "cell_type": "code",
   "source": "df['is_timely'].value_counts(dropna=False)",
   "id": "6388580478d43c27",
   "outputs": [
    {
     "data": {
      "text/plain": [
       "is_timely\n",
       "None     1818\n",
       "True      996\n",
       "False     963\n",
       "Name: count, dtype: int64"
      ]
     },
     "execution_count": 85,
     "metadata": {},
     "output_type": "execute_result"
    }
   ],
   "execution_count": 85
  },
  {
   "metadata": {
    "ExecuteTime": {
     "end_time": "2024-05-04T07:22:54.100982Z",
     "start_time": "2024-05-04T07:22:49.981694Z"
    }
   },
   "cell_type": "code",
   "source": [
    "def evaluate_csv_integrity():\n",
    "    anomalies = {}\n",
    "    \n",
    "    for file in dataset_files():\n",
    "        file_name = os.path.splitext(file)[0]\n",
    "        file_path = os.path.join(dataset_dir, file)\n",
    "        anomalies[file_name] = detect_csv_anomalies(file_path)\n",
    "    \n",
    "    return pd.DataFrame(list(anomalies.items()), columns=['文件名', '首个异常行标'])\n",
    "\n",
    "def detect_csv_anomalies(file_path):\n",
    "    with open(file_path, encoding='gbk', errors='ignore') as file:\n",
    "        reader = csv.reader(file)\n",
    "        expected_columns = len(next(reader))\n",
    "        for row_index, row in enumerate(reader, 1):\n",
    "            if len(row) != expected_columns:\n",
    "                return row_index\n",
    "    return -1\n",
    "\n",
    "def move_anomalies(destination_dir):\n",
    "    os.makedirs(destination_dir, exist_ok=True)\n",
    "    \n",
    "    for file in dataset_files():\n",
    "        file_path = os.path.join(dataset_dir, file)\n",
    "        if detect_csv_anomalies(file_path) != -1:\n",
    "            source_path = os.path.join(dataset_dir, file)\n",
    "            destination_path = os.path.join(destination_dir, file)\n",
    "            shutil.move(source_path, destination_path)\n",
    "            print(f\"Moved '{source_path}' to '{destination_path}'\")\n",
    "\n",
    "\n",
    "anomalies_df = evaluate_csv_integrity()\n",
    "# move_anomalies(anomalies_dir)"
   ],
   "id": "ac8398002229f24a",
   "outputs": [],
   "execution_count": 65
  },
  {
   "metadata": {
    "ExecuteTime": {
     "end_time": "2024-05-04T07:29:33.202211Z",
     "start_time": "2024-05-04T07:29:33.193235Z"
    }
   },
   "cell_type": "code",
   "source": [
    "print(anomalies_df['首个异常行标'].value_counts())\n",
    "anomalies_df[anomalies_df['首个异常行标'] != -1]"
   ],
   "id": "24cac4c1731514b1",
   "outputs": [
    {
     "name": "stdout",
     "output_type": "stream",
     "text": [
      "首个异常行标\n",
      "-1    2972\n",
      "Name: count, dtype: int64\n"
     ]
    },
    {
     "data": {
      "text/plain": [
       "Empty DataFrame\n",
       "Columns: [文件名, 首个异常行标]\n",
       "Index: []"
      ],
      "text/html": [
       "<div>\n",
       "<style scoped>\n",
       "    .dataframe tbody tr th:only-of-type {\n",
       "        vertical-align: middle;\n",
       "    }\n",
       "\n",
       "    .dataframe tbody tr th {\n",
       "        vertical-align: top;\n",
       "    }\n",
       "\n",
       "    .dataframe thead th {\n",
       "        text-align: right;\n",
       "    }\n",
       "</style>\n",
       "<table border=\"1\" class=\"dataframe\">\n",
       "  <thead>\n",
       "    <tr style=\"text-align: right;\">\n",
       "      <th></th>\n",
       "      <th>文件名</th>\n",
       "      <th>首个异常行标</th>\n",
       "    </tr>\n",
       "  </thead>\n",
       "  <tbody>\n",
       "  </tbody>\n",
       "</table>\n",
       "</div>"
      ]
     },
     "execution_count": 72,
     "metadata": {},
     "output_type": "execute_result"
    }
   ],
   "execution_count": 72
  },
  {
   "metadata": {},
   "cell_type": "code",
   "outputs": [],
   "execution_count": null,
   "source": [
    "dataset_name = '绵阳市_生态环境局_绵阳市信访列表'\n",
    "dataset_file_path = os.path.join(dataset_dir, f'{dataset_name}.csv')\n",
    "try:\n",
    "    temp = pd.read_csv(dataset_file_path, encoding='gbk')\n",
    "except Exception as e:\n",
    "    raise e\n"
   ],
   "id": "fe92e803a183d8b0"
  },
  {
   "metadata": {},
   "cell_type": "code",
   "outputs": [],
   "execution_count": null,
   "source": "",
   "id": "806caf53f28b205a"
  }
 ],
 "metadata": {
  "kernelspec": {
   "display_name": "Python 3",
   "language": "python",
   "name": "python3"
  },
  "language_info": {
   "codemirror_mode": {
    "name": "ipython",
    "version": 2
   },
   "file_extension": ".py",
   "mimetype": "text/x-python",
   "name": "python",
   "nbconvert_exporter": "python",
   "pygments_lexer": "ipython2",
   "version": "2.7.6"
  }
 },
 "nbformat": 4,
 "nbformat_minor": 5
}
