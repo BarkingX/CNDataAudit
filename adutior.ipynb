{
 "cells": [
  {
   "cell_type": "code",
   "id": "initial_id",
   "metadata": {
    "collapsed": true,
    "ExecuteTime": {
     "end_time": "2024-05-02T07:04:41.813262Z",
     "start_time": "2024-05-02T07:04:41.432269Z"
    }
   },
   "source": "import pandas as pd",
   "outputs": [],
   "execution_count": 1
  },
  {
   "metadata": {
    "ExecuteTime": {
     "end_time": "2024-05-02T07:04:43.961508Z",
     "start_time": "2024-05-02T07:04:43.885710Z"
    }
   },
   "cell_type": "code",
   "source": [
    "path = 'D:\\Data\\workspace\\python\\projects\\CNDataAuditOutput\\sichuan\\dataset_catalog.json'\n",
    "dtype = {'name': str, 'id': str, 'URL': str, 'owner': str, 'category': 'category',\n",
    "         'published': 'datetime64[ns]', 'updated': 'datetime64[ns]',\n",
    "         'frequency': 'category', 'sample_data': object}\n",
    "\n",
    "df = pd.read_json(path, dtype=dtype)\n",
    "\n",
    "print(df.info())\n",
    "print(df.head())\n",
    "print(df.columns)"
   ],
   "id": "8a0cce08c70abe1e",
   "outputs": [
    {
     "name": "stdout",
     "output_type": "stream",
     "text": [
      "<class 'pandas.core.frame.DataFrame'>\n",
      "RangeIndex: 4011 entries, 0 to 4010\n",
      "Data columns (total 9 columns):\n",
      " #   Column       Non-Null Count  Dtype         \n",
      "---  ------       --------------  -----         \n",
      " 0   name         4011 non-null   object        \n",
      " 1   id           4011 non-null   object        \n",
      " 2   URL          4011 non-null   object        \n",
      " 3   owner        4011 non-null   object        \n",
      " 4   category     4011 non-null   category      \n",
      " 5   published    4011 non-null   datetime64[ns]\n",
      " 6   updated      4011 non-null   datetime64[ns]\n",
      " 7   frequency    4011 non-null   category      \n",
      " 8   sample_data  4010 non-null   object        \n",
      "dtypes: category(2), datetime64[ns](2), object(5)\n",
      "memory usage: 228.4+ KB\n",
      "None\n",
      "                  name                                id  \\\n",
      "0   达州市_通川区_耕地地力保护补贴资金  DB8068EA789B4D02B5FB58866189478F   \n",
      "1          国省干线公路出入口信息  FB3A8200EA074DBB89D0AD255079BD9B   \n",
      "2  四川省新冠肺炎医疗救治定点医疗机构名录  22698EA233A744EA82AFA1A94C1BDC09   \n",
      "3              省级产业化基地  FB9E0FCB0CFE4602AF6C89988A00D9F9   \n",
      "4            四川省爱婴医院名单  97CE9F36283740A1907E45B2CF0EA10F   \n",
      "\n",
      "                                                 URL   owner category  \\\n",
      "0  https://www.scdata.net.cn/oportal/catalog/DB80...     达州市     生活服务   \n",
      "1  https://www.scdata.net.cn/oportal/catalog/FB3A...   交通运输厅     交通运输   \n",
      "2  https://www.scdata.net.cn/oportal/catalog/2269...  省卫生健康委     医疗卫生   \n",
      "3  https://www.scdata.net.cn/oportal/catalog/FB9E...     科技厅     科技创新   \n",
      "4  https://www.scdata.net.cn/oportal/catalog/97CE...  省卫生健康委     医疗卫生   \n",
      "\n",
      "   published    updated frequency  \\\n",
      "0 2024-02-28 2024-04-11        每年   \n",
      "1 2024-01-29 2024-01-30        每年   \n",
      "2 2023-08-24 2024-01-23        每年   \n",
      "3 2023-03-29 2024-01-23        每年   \n",
      "4 2023-08-24 2024-01-23        每年   \n",
      "\n",
      "                                         sample_data  \n",
      "0  {'null': '202005', 'name': 'null', 'money': '杨...  \n",
      "1  {'SSMC': '太平站', 'CRKLX': '3', 'WD': '30', 'JD'...  \n",
      "2  {'YYDZ': '成都市武侯区国学巷37号', 'DDYLJGMC': '四川大学华西医院...  \n",
      "3                       {'sssz': '成都市', 'jb': '国家级'}  \n",
      "4  {'YYMC': '四川宝石花医院', 'BH': '1', 'MRWYRXDH': '02...  \n",
      "Index(['name', 'id', 'URL', 'owner', 'category', 'published', 'updated',\n",
      "       'frequency', 'sample_data'],\n",
      "      dtype='object')\n"
     ]
    }
   ],
   "execution_count": 2
  },
  {
   "metadata": {
    "ExecuteTime": {
     "end_time": "2024-05-02T07:20:27.668725Z",
     "start_time": "2024-05-02T07:20:27.662740Z"
    }
   },
   "cell_type": "code",
   "source": [
    "for c in df['category'].unique():\n",
    "  print(repr(c), len(c))"
   ],
   "id": "761738933ef29765",
   "outputs": [
    {
     "name": "stdout",
     "output_type": "stream",
     "text": [
      "'生活服务' 4\n",
      "'交通运输' 4\n",
      "'医疗卫生' 4\n",
      "'科技创新' 4\n",
      "'社保就业' 4\n",
      "'工业农业' 4\n",
      "'教育文化' 4\n",
      "'地理空间' 4\n",
      "'能源资源' 4\n",
      "'生态环境' 4\n",
      "'机构团体' 4\n",
      "'社会救助' 4\n",
      "'市场监管' 4\n",
      "'气象服务' 4\n",
      "'信用服务' 4\n",
      "'公共安全' 4\n",
      "'城建住房' 4\n",
      "'财税金融' 4\n",
      "'商贸流通' 4\n",
      "'安全生产' 4\n",
      "'法律服务' 4\n",
      "'机构团体 教育文化' 9\n",
      "'能源资源 交通运输' 9\n",
      "'工业农业 财税金融' 9\n"
     ]
    }
   ],
   "execution_count": 17
  },
  {
   "metadata": {
    "ExecuteTime": {
     "end_time": "2024-05-02T07:14:13.830806Z",
     "start_time": "2024-05-02T07:14:13.823825Z"
    }
   },
   "cell_type": "code",
   "source": [
    "df['category'] = df['category'].str.replace(r'\\s+', ' ', regex=True)\n",
    "df['category'] = df['category'].str.replace('\\r\\n', ' ', regex=True)\n",
    "df['category'] = df['category'].astype('category')"
   ],
   "id": "e29597b93da761ab",
   "outputs": [
    {
     "name": "stdout",
     "output_type": "stream",
     "text": [
      "'生活服务' 4\n",
      "'交通运输' 4\n",
      "'医疗卫生' 4\n",
      "'科技创新' 4\n",
      "'社保就业' 4\n",
      "'工业农业' 4\n",
      "'教育文化' 4\n",
      "'地理空间' 4\n",
      "'能源资源' 4\n",
      "'生态环境' 4\n",
      "'机构团体' 4\n",
      "'社会救助' 4\n",
      "'市场监管' 4\n",
      "'气象服务' 4\n",
      "'信用服务' 4\n",
      "'公共安全' 4\n",
      "'城建住房' 4\n",
      "'财税金融' 4\n",
      "'商贸流通' 4\n",
      "'安全生产' 4\n",
      "'法律服务' 4\n",
      "'机构团体 教育文化' 9\n",
      "'能源资源 交通运输' 9\n",
      "'工业农业 财税金融' 9\n"
     ]
    }
   ],
   "execution_count": 13
  },
  {
   "metadata": {
    "ExecuteTime": {
     "end_time": "2024-05-02T07:19:31.979336Z",
     "start_time": "2024-05-02T07:19:31.972337Z"
    }
   },
   "cell_type": "code",
   "source": "df['category'].value_counts() ",
   "id": "54faac81693f0221",
   "outputs": [
    {
     "data": {
      "text/plain": [
       "category\n",
       "社保就业         964\n",
       "医疗卫生         499\n",
       "生活服务         377\n",
       "市场监管         369\n",
       "教育文化         246\n",
       "生态环境         235\n",
       "工业农业         206\n",
       "公共安全         160\n",
       "财税金融         139\n",
       "信用服务         133\n",
       "城建住房         124\n",
       "交通运输         122\n",
       "社会救助          85\n",
       "能源资源          83\n",
       "机构团体          60\n",
       "商贸流通          57\n",
       "气象服务          40\n",
       "科技创新          32\n",
       "法律服务          26\n",
       "地理空间          26\n",
       "安全生产          23\n",
       "机构团体 教育文化      2\n",
       "能源资源 交通运输      2\n",
       "工业农业 财税金融      1\n",
       "Name: count, dtype: int64"
      ]
     },
     "execution_count": 16,
     "metadata": {},
     "output_type": "execute_result"
    }
   ],
   "execution_count": 16
  },
  {
   "metadata": {
    "ExecuteTime": {
     "end_time": "2024-05-02T07:21:01.803578Z",
     "start_time": "2024-05-02T07:21:01.771664Z"
    }
   },
   "cell_type": "code",
   "source": "df['frequency'].value_counts()",
   "id": "ea86150739b8bb1a",
   "outputs": [
    {
     "data": {
      "text/plain": [
       "frequency\n",
       "不定期    2035\n",
       "每年      996\n",
       "每天      330\n",
       "实时      246\n",
       "每月      213\n",
       "每半年     118\n",
       "每季度      55\n",
       "每周       18\n",
       "Name: count, dtype: int64"
      ]
     },
     "execution_count": 18,
     "metadata": {},
     "output_type": "execute_result"
    }
   ],
   "execution_count": 18
  },
  {
   "metadata": {
    "ExecuteTime": {
     "end_time": "2024-05-02T07:42:59.958480Z",
     "start_time": "2024-05-02T07:42:59.891659Z"
    }
   },
   "cell_type": "code",
   "source": [
    "# Creating a boolean mask for filtering\n",
    "is_empty_sample = df['sample_data'].apply(lambda x: x == {'null': 'null'})\n",
    "\n",
    "# Filtering the DataFrame to get only rows where sample_data is {\"null\": \"null\"}\n",
    "empty_datasets_df = df[is_empty_sample]\n",
    "empty_datasets_df"
   ],
   "id": "e10b9488464387de",
   "outputs": [
    {
     "data": {
      "text/plain": [
       "                          name                                id  \\\n",
       "8              成都市_天府新区_门牌号信息表  6c207d43f1e04d3191e6fb331a49623d   \n",
       "10           成都市_市司法局_（责一）律师信息  8f8edf48370a413ab1b1b0e7c9647eef   \n",
       "28     自贡市_生态环境局_地表水水质断面月度监测信息  91415bb531cb4dd6ba18deb8ff2334a5   \n",
       "91    成都市_市住建局_（责一）廉租标准公共租赁房信息  0b5242c1487643458609771b2ecd236f   \n",
       "96           成都市_市住建局_监理单位信用排名  52aaa72d31b8469bbff47fd97001d825   \n",
       "...                        ...                               ...   \n",
       "4006        阿坝州_理县_理县医院门诊就诊明细表  5d1b87d5208a4665a23618e625377db0   \n",
       "4007    阿坝州_卫生健康委_阿坝州住院其他医嘱明细表  54e9b0d0910241e58c01c7ee497c5353   \n",
       "4008        阿坝州_九寨沟县_路段实时路况详情表  74b567262f17480bb2f6772ca85de22f   \n",
       "4009        阿坝州_司法局_公民法律援助申请信息  8e9089ef57d044a8adf8da6fd9df4695   \n",
       "4010     阿坝州_小金县_小金县医院西医门诊诊断信息  7591cad8602c4306ae86d6f67f49a4c1   \n",
       "\n",
       "                                                    URL    owner category  \\\n",
       "8     https://www.scdata.net.cn/oportal/catalog/6c20...      成都市     社保就业   \n",
       "10    https://www.scdata.net.cn/oportal/catalog/8f8e...      成都市     社保就业   \n",
       "28    https://www.scdata.net.cn/oportal/catalog/9141...      自贡市     社保就业   \n",
       "91    https://www.scdata.net.cn/oportal/catalog/0b52...      成都市     市场监管   \n",
       "96    https://www.scdata.net.cn/oportal/catalog/52aa...  建筑建材管理处     社保就业   \n",
       "...                                                 ...      ...      ...   \n",
       "4006  https://www.scdata.net.cn/oportal/catalog/5d1b...       理县     医疗卫生   \n",
       "4007  https://www.scdata.net.cn/oportal/catalog/54e9...    卫生健康委     医疗卫生   \n",
       "4008  https://www.scdata.net.cn/oportal/catalog/74b5...     九寨沟县     生活服务   \n",
       "4009  https://www.scdata.net.cn/oportal/catalog/8e90...      司法局     信用服务   \n",
       "4010  https://www.scdata.net.cn/oportal/catalog/7591...      小金县     医疗卫生   \n",
       "\n",
       "      published    updated frequency       sample_data  \n",
       "8    2023-11-02 2024-01-23       不定期  {'null': 'null'}  \n",
       "10   2023-11-02 2024-01-23       不定期  {'null': 'null'}  \n",
       "28   2024-01-15 2024-01-17       不定期  {'null': 'null'}  \n",
       "91   2023-12-13 2024-01-23       不定期  {'null': 'null'}  \n",
       "96   2023-11-02 2024-01-23       不定期  {'null': 'null'}  \n",
       "...         ...        ...       ...               ...  \n",
       "4006 2023-04-21 2023-05-17        每天  {'null': 'null'}  \n",
       "4007 2023-04-21 2023-05-17        每天  {'null': 'null'}  \n",
       "4008 2023-04-21 2023-05-17        每天  {'null': 'null'}  \n",
       "4009 2023-04-21 2023-05-17        每天  {'null': 'null'}  \n",
       "4010 2023-04-21 2023-05-17        每天  {'null': 'null'}  \n",
       "\n",
       "[768 rows x 9 columns]"
      ],
      "text/html": [
       "<div>\n",
       "<style scoped>\n",
       "    .dataframe tbody tr th:only-of-type {\n",
       "        vertical-align: middle;\n",
       "    }\n",
       "\n",
       "    .dataframe tbody tr th {\n",
       "        vertical-align: top;\n",
       "    }\n",
       "\n",
       "    .dataframe thead th {\n",
       "        text-align: right;\n",
       "    }\n",
       "</style>\n",
       "<table border=\"1\" class=\"dataframe\">\n",
       "  <thead>\n",
       "    <tr style=\"text-align: right;\">\n",
       "      <th></th>\n",
       "      <th>name</th>\n",
       "      <th>id</th>\n",
       "      <th>URL</th>\n",
       "      <th>owner</th>\n",
       "      <th>category</th>\n",
       "      <th>published</th>\n",
       "      <th>updated</th>\n",
       "      <th>frequency</th>\n",
       "      <th>sample_data</th>\n",
       "    </tr>\n",
       "  </thead>\n",
       "  <tbody>\n",
       "    <tr>\n",
       "      <th>8</th>\n",
       "      <td>成都市_天府新区_门牌号信息表</td>\n",
       "      <td>6c207d43f1e04d3191e6fb331a49623d</td>\n",
       "      <td>https://www.scdata.net.cn/oportal/catalog/6c20...</td>\n",
       "      <td>成都市</td>\n",
       "      <td>社保就业</td>\n",
       "      <td>2023-11-02</td>\n",
       "      <td>2024-01-23</td>\n",
       "      <td>不定期</td>\n",
       "      <td>{'null': 'null'}</td>\n",
       "    </tr>\n",
       "    <tr>\n",
       "      <th>10</th>\n",
       "      <td>成都市_市司法局_（责一）律师信息</td>\n",
       "      <td>8f8edf48370a413ab1b1b0e7c9647eef</td>\n",
       "      <td>https://www.scdata.net.cn/oportal/catalog/8f8e...</td>\n",
       "      <td>成都市</td>\n",
       "      <td>社保就业</td>\n",
       "      <td>2023-11-02</td>\n",
       "      <td>2024-01-23</td>\n",
       "      <td>不定期</td>\n",
       "      <td>{'null': 'null'}</td>\n",
       "    </tr>\n",
       "    <tr>\n",
       "      <th>28</th>\n",
       "      <td>自贡市_生态环境局_地表水水质断面月度监测信息</td>\n",
       "      <td>91415bb531cb4dd6ba18deb8ff2334a5</td>\n",
       "      <td>https://www.scdata.net.cn/oportal/catalog/9141...</td>\n",
       "      <td>自贡市</td>\n",
       "      <td>社保就业</td>\n",
       "      <td>2024-01-15</td>\n",
       "      <td>2024-01-17</td>\n",
       "      <td>不定期</td>\n",
       "      <td>{'null': 'null'}</td>\n",
       "    </tr>\n",
       "    <tr>\n",
       "      <th>91</th>\n",
       "      <td>成都市_市住建局_（责一）廉租标准公共租赁房信息</td>\n",
       "      <td>0b5242c1487643458609771b2ecd236f</td>\n",
       "      <td>https://www.scdata.net.cn/oportal/catalog/0b52...</td>\n",
       "      <td>成都市</td>\n",
       "      <td>市场监管</td>\n",
       "      <td>2023-12-13</td>\n",
       "      <td>2024-01-23</td>\n",
       "      <td>不定期</td>\n",
       "      <td>{'null': 'null'}</td>\n",
       "    </tr>\n",
       "    <tr>\n",
       "      <th>96</th>\n",
       "      <td>成都市_市住建局_监理单位信用排名</td>\n",
       "      <td>52aaa72d31b8469bbff47fd97001d825</td>\n",
       "      <td>https://www.scdata.net.cn/oportal/catalog/52aa...</td>\n",
       "      <td>建筑建材管理处</td>\n",
       "      <td>社保就业</td>\n",
       "      <td>2023-11-02</td>\n",
       "      <td>2024-01-23</td>\n",
       "      <td>不定期</td>\n",
       "      <td>{'null': 'null'}</td>\n",
       "    </tr>\n",
       "    <tr>\n",
       "      <th>...</th>\n",
       "      <td>...</td>\n",
       "      <td>...</td>\n",
       "      <td>...</td>\n",
       "      <td>...</td>\n",
       "      <td>...</td>\n",
       "      <td>...</td>\n",
       "      <td>...</td>\n",
       "      <td>...</td>\n",
       "      <td>...</td>\n",
       "    </tr>\n",
       "    <tr>\n",
       "      <th>4006</th>\n",
       "      <td>阿坝州_理县_理县医院门诊就诊明细表</td>\n",
       "      <td>5d1b87d5208a4665a23618e625377db0</td>\n",
       "      <td>https://www.scdata.net.cn/oportal/catalog/5d1b...</td>\n",
       "      <td>理县</td>\n",
       "      <td>医疗卫生</td>\n",
       "      <td>2023-04-21</td>\n",
       "      <td>2023-05-17</td>\n",
       "      <td>每天</td>\n",
       "      <td>{'null': 'null'}</td>\n",
       "    </tr>\n",
       "    <tr>\n",
       "      <th>4007</th>\n",
       "      <td>阿坝州_卫生健康委_阿坝州住院其他医嘱明细表</td>\n",
       "      <td>54e9b0d0910241e58c01c7ee497c5353</td>\n",
       "      <td>https://www.scdata.net.cn/oportal/catalog/54e9...</td>\n",
       "      <td>卫生健康委</td>\n",
       "      <td>医疗卫生</td>\n",
       "      <td>2023-04-21</td>\n",
       "      <td>2023-05-17</td>\n",
       "      <td>每天</td>\n",
       "      <td>{'null': 'null'}</td>\n",
       "    </tr>\n",
       "    <tr>\n",
       "      <th>4008</th>\n",
       "      <td>阿坝州_九寨沟县_路段实时路况详情表</td>\n",
       "      <td>74b567262f17480bb2f6772ca85de22f</td>\n",
       "      <td>https://www.scdata.net.cn/oportal/catalog/74b5...</td>\n",
       "      <td>九寨沟县</td>\n",
       "      <td>生活服务</td>\n",
       "      <td>2023-04-21</td>\n",
       "      <td>2023-05-17</td>\n",
       "      <td>每天</td>\n",
       "      <td>{'null': 'null'}</td>\n",
       "    </tr>\n",
       "    <tr>\n",
       "      <th>4009</th>\n",
       "      <td>阿坝州_司法局_公民法律援助申请信息</td>\n",
       "      <td>8e9089ef57d044a8adf8da6fd9df4695</td>\n",
       "      <td>https://www.scdata.net.cn/oportal/catalog/8e90...</td>\n",
       "      <td>司法局</td>\n",
       "      <td>信用服务</td>\n",
       "      <td>2023-04-21</td>\n",
       "      <td>2023-05-17</td>\n",
       "      <td>每天</td>\n",
       "      <td>{'null': 'null'}</td>\n",
       "    </tr>\n",
       "    <tr>\n",
       "      <th>4010</th>\n",
       "      <td>阿坝州_小金县_小金县医院西医门诊诊断信息</td>\n",
       "      <td>7591cad8602c4306ae86d6f67f49a4c1</td>\n",
       "      <td>https://www.scdata.net.cn/oportal/catalog/7591...</td>\n",
       "      <td>小金县</td>\n",
       "      <td>医疗卫生</td>\n",
       "      <td>2023-04-21</td>\n",
       "      <td>2023-05-17</td>\n",
       "      <td>每天</td>\n",
       "      <td>{'null': 'null'}</td>\n",
       "    </tr>\n",
       "  </tbody>\n",
       "</table>\n",
       "<p>768 rows × 9 columns</p>\n",
       "</div>"
      ]
     },
     "execution_count": 25,
     "metadata": {},
     "output_type": "execute_result"
    }
   ],
   "execution_count": 25
  },
  {
   "metadata": {
    "ExecuteTime": {
     "end_time": "2024-05-02T07:51:55.415353Z",
     "start_time": "2024-05-02T07:51:55.405379Z"
    }
   },
   "cell_type": "code",
   "source": "",
   "id": "d5ad78f52458fa84",
   "outputs": [],
   "execution_count": 31
  },
  {
   "metadata": {},
   "cell_type": "code",
   "outputs": [],
   "execution_count": null,
   "source": "",
   "id": "978006759cbafcf5"
  }
 ],
 "metadata": {
  "kernelspec": {
   "display_name": "Python 3",
   "language": "python",
   "name": "python3"
  },
  "language_info": {
   "codemirror_mode": {
    "name": "ipython",
    "version": 2
   },
   "file_extension": ".py",
   "mimetype": "text/x-python",
   "name": "python",
   "nbconvert_exporter": "python",
   "pygments_lexer": "ipython2",
   "version": "2.7.6"
  }
 },
 "nbformat": 4,
 "nbformat_minor": 5
}
